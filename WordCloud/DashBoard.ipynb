{
 "cells": [
  {
   "cell_type": "markdown",
   "id": "5ce43c72",
   "metadata": {},
   "source": [
    "## Loading libraries"
   ]
  },
  {
   "cell_type": "code",
   "execution_count": 62,
   "id": "3c65905d",
   "metadata": {},
   "outputs": [],
   "source": [
    "import re\n",
    "import pandas as pd\n",
    "import datetime\n",
    "import matplotlib.pyplot as plt\n",
    "import numpy as np"
   ]
  },
  {
   "cell_type": "markdown",
   "id": "0a4f394e",
   "metadata": {},
   "source": [
    "## Functions\n",
    "\n",
    "* readFile -> reads the text file and returns a list object with all text split at newline\n",
    "* create_dataframe -> creates a dataframe from the list with columns: 'Date', 'Time', 'Sender', 'Text'"
   ]
  },
  {
   "cell_type": "code",
   "execution_count": 6,
   "id": "fcbb7c4b",
   "metadata": {},
   "outputs": [],
   "source": [
    "date_reg = re.compile(r\"\\d{2}/\\d{2}/\\d{4}\")\n",
    "time_reg = re.compile(r\"\\d+:\\d+\")\n",
    "sender_reg = re.compile(r\"[a-zA-Z]+:\")\n",
    "\n",
    "def readFile(filename):\n",
    "    with open(filename, 'rt', encoding = 'utf-8' ) as f:\n",
    "        text = f.read()\n",
    "    return text.split('\\n')\n",
    "\n",
    "def create_dataframe(text_list):\n",
    "    text_df = pd.DataFrame(columns=[\"Date\", \"Time\", \"Sender\", \"Text\"])\n",
    "    for i in range(len(text_list)):\n",
    "        date = date_reg.findall(text_list[i])\n",
    "        time = time_reg.findall(text_list[i])\n",
    "        sender = sender_reg.findall(text_list[i])\n",
    "        message = text_list[i][text_list[i].find(':', text_list[i].find(':')+1):]\n",
    "        text_df.loc[i] = [date, time, sender, message]\n",
    "    return text_df  "
   ]
  },
  {
   "cell_type": "markdown",
   "id": "a3f765c4",
   "metadata": {},
   "source": [
    "## Main Body"
   ]
  },
  {
   "cell_type": "code",
   "execution_count": 34,
   "id": "1d1d4417",
   "metadata": {},
   "outputs": [],
   "source": [
    "text = readFile(\"spam_data/WhatsApp Chat with Bublasaur.txt\")\n",
    "df = create_dataframe(text)\n"
   ]
  },
  {
   "cell_type": "code",
   "execution_count": 29,
   "id": "5d1227d1",
   "metadata": {},
   "outputs": [
    {
     "data": {
      "text/plain": [
       "str"
      ]
     },
     "execution_count": 29,
     "metadata": {},
     "output_type": "execute_result"
    }
   ],
   "source": [
    "type(df.Date.iloc[0])"
   ]
  },
  {
   "cell_type": "code",
   "execution_count": 42,
   "id": "7c4b5f2b",
   "metadata": {},
   "outputs": [
    {
     "data": {
      "text/html": [
       "<div>\n",
       "<style scoped>\n",
       "    .dataframe tbody tr th:only-of-type {\n",
       "        vertical-align: middle;\n",
       "    }\n",
       "\n",
       "    .dataframe tbody tr th {\n",
       "        vertical-align: top;\n",
       "    }\n",
       "\n",
       "    .dataframe thead th {\n",
       "        text-align: right;\n",
       "    }\n",
       "</style>\n",
       "<table border=\"1\" class=\"dataframe\">\n",
       "  <thead>\n",
       "    <tr style=\"text-align: right;\">\n",
       "      <th></th>\n",
       "      <th>Date</th>\n",
       "      <th>Time</th>\n",
       "      <th>Sender</th>\n",
       "      <th>Text</th>\n",
       "      <th>Hour</th>\n",
       "      <th>Month</th>\n",
       "      <th>Year</th>\n",
       "      <th>Day</th>\n",
       "    </tr>\n",
       "  </thead>\n",
       "  <tbody>\n",
       "    <tr>\n",
       "      <th>0</th>\n",
       "      <td>11/06/2021</td>\n",
       "      <td>00:21</td>\n",
       "      <td>Anubhav</td>\n",
       "      <td>oh bad</td>\n",
       "      <td>00</td>\n",
       "      <td>June</td>\n",
       "      <td>2021</td>\n",
       "      <td>Friday</td>\n",
       "    </tr>\n",
       "    <tr>\n",
       "      <th>1</th>\n",
       "      <td>11/06/2021</td>\n",
       "      <td>00:21</td>\n",
       "      <td>Anubhav</td>\n",
       "      <td>yahan aaye hue 20 mins ho gye</td>\n",
       "      <td>00</td>\n",
       "      <td>June</td>\n",
       "      <td>2021</td>\n",
       "      <td>Friday</td>\n",
       "    </tr>\n",
       "    <tr>\n",
       "      <th>2</th>\n",
       "      <td>11/06/2021</td>\n",
       "      <td>08:54</td>\n",
       "      <td>Bublasaur</td>\n",
       "      <td>aa gyi thi humare yaha bhi around 12.30-1</td>\n",
       "      <td>08</td>\n",
       "      <td>June</td>\n",
       "      <td>2021</td>\n",
       "      <td>Friday</td>\n",
       "    </tr>\n",
       "    <tr>\n",
       "      <th>3</th>\n",
       "      <td>11/06/2021</td>\n",
       "      <td>11:15</td>\n",
       "      <td>Bublasaur</td>\n",
       "      <td>hello??</td>\n",
       "      <td>11</td>\n",
       "      <td>June</td>\n",
       "      <td>2021</td>\n",
       "      <td>Friday</td>\n",
       "    </tr>\n",
       "    <tr>\n",
       "      <th>4</th>\n",
       "      <td>11/06/2021</td>\n",
       "      <td>11:35</td>\n",
       "      <td>Anubhav</td>\n",
       "      <td>hello</td>\n",
       "      <td>11</td>\n",
       "      <td>June</td>\n",
       "      <td>2021</td>\n",
       "      <td>Friday</td>\n",
       "    </tr>\n",
       "  </tbody>\n",
       "</table>\n",
       "</div>"
      ],
      "text/plain": [
       "         Date   Time     Sender                                        Text  \\\n",
       "0  11/06/2021  00:21    Anubhav                                      oh bad   \n",
       "1  11/06/2021  00:21    Anubhav               yahan aaye hue 20 mins ho gye   \n",
       "2  11/06/2021  08:54  Bublasaur   aa gyi thi humare yaha bhi around 12.30-1   \n",
       "3  11/06/2021  11:15  Bublasaur                                     hello??   \n",
       "4  11/06/2021  11:35    Anubhav                                       hello   \n",
       "\n",
       "  Hour Month  Year     Day  \n",
       "0   00  June  2021  Friday  \n",
       "1   00  June  2021  Friday  \n",
       "2   08  June  2021  Friday  \n",
       "3   11  June  2021  Friday  \n",
       "4   11  June  2021  Friday  "
      ]
     },
     "execution_count": 42,
     "metadata": {},
     "output_type": "execute_result"
    }
   ],
   "source": [
    "df.head()"
   ]
  },
  {
   "cell_type": "markdown",
   "id": "d7000b1c",
   "metadata": {},
   "source": [
    "### Cleaning the Code"
   ]
  },
  {
   "cell_type": "code",
   "execution_count": 36,
   "id": "3b839af8",
   "metadata": {},
   "outputs": [],
   "source": [
    "# re.findall returns a list of values - hence extracting values from list and striping extra symbols where neccessary \n",
    "\n",
    "df['Text'] = df['Text'].apply(lambda x: x.lstrip(':'))\n",
    "df['Date'] = df['Date'].apply(lambda x: \"\".join(x))\n",
    "df['Time'] = df['Time'].apply(lambda x: \"\".join(x))\n",
    "df['Sender'] = df['Sender'].apply(lambda x: \"\".join(x).rstrip(':'))"
   ]
  },
  {
   "cell_type": "code",
   "execution_count": 39,
   "id": "2f65d734",
   "metadata": {},
   "outputs": [],
   "source": [
    "df['Sender'] = df['Sender'].apply(lambda x: 'Anubhav' if 'Anubhav' in x else ('Bublasaur' if 'Bublasaur' in x else x))"
   ]
  },
  {
   "cell_type": "code",
   "execution_count": 40,
   "id": "723bd251",
   "metadata": {},
   "outputs": [],
   "source": [
    "df = df[(df['Sender'] == 'Anubhav') | (df['Sender'] == 'Bublasaur')]"
   ]
  },
  {
   "cell_type": "markdown",
   "id": "4cb9e425",
   "metadata": {},
   "source": [
    "## Adding Relevant Columns"
   ]
  },
  {
   "cell_type": "code",
   "execution_count": 41,
   "id": "c4476007",
   "metadata": {},
   "outputs": [],
   "source": [
    "# there are two ways to do this strptime and srtftime.\n",
    "\n",
    "#days are indexed from 0-6 starting from Monday.\n",
    "week = ('Monday', 'Tuesday', 'Wednesday', 'Thursday', 'Friday', 'Saturday', 'Sunday')\n",
    "\n",
    "df['Hour'] = df.Time.apply(lambda x: x[:2])\n",
    "\n",
    "#strftime take datetime.date oject in (year, month, day) format and returns based on attribute mentioned.\n",
    "df['Month'] = df['Date'].apply(lambda x: datetime.date(int(x.split('/')[2]), int(x.split('/')[1]), int(x.split('/')[0])).strftime(\"%B\"))\n",
    "\n",
    "df['Year'] = df['Date'].apply(lambda x: x[-4:])\n",
    "\n",
    "# strptime takes a string, alongwith the mention the format of string given - \n",
    "# returns a datetime.datetime object of year, month, date\n",
    "\n",
    "df['Day'] = df['Date'].apply(lambda x: week[datetime.datetime.strptime(x, \"%d/%m/%Y\").weekday()])\n",
    "\n"
   ]
  },
  {
   "cell_type": "markdown",
   "id": "30a7a22e",
   "metadata": {},
   "source": [
    "## Plots"
   ]
  },
  {
   "cell_type": "code",
   "execution_count": 73,
   "id": "883bc988",
   "metadata": {},
   "outputs": [
    {
     "data": {
      "image/png": "[encoded data removed]",
      "text/plain": [
       "<Figure size 432x288 with 1 Axes>"
      ]
     },
     "metadata": {
      "needs_background": "light"
     },
     "output_type": "display_data"
    }
   ],
   "source": [
    "data = df.groupby(df.Hour).count()['Text']\n",
    "labels = [x for x in data.index]\n",
    "\n",
    "plt.bar(labels, data)\n",
    "plt.xticks(labels, size = 9)\n",
    "plt.xlabel('Hour of the day')\n",
    "plt.ylabel('Text Frequency')\n",
    "plt.show()"
   ]
  },
  {
   "cell_type": "code",
   "execution_count": 95,
   "id": "aa68b7af",
   "metadata": {},
   "outputs": [
    {
     "data": {
      "image/png": "[encoded data removed]",
      "text/plain": [
       "<Figure size 432x288 with 1 Axes>"
      ]
     },
     "metadata": {
      "needs_background": "light"
     },
     "output_type": "display_data"
    }
   ],
   "source": [
    "data = df.groupby(df.Month).count().iloc[:,0]\n",
    "labels = [x for x in data.index]\n",
    "\n",
    "plt.bar(labels, data)\n",
    "plt.xticks(labels, rotation = 'vertical', size = 9)\n",
    "plt.xlabel('Month')\n",
    "plt.ylabel('Text Frequency')\n",
    "plt.show()"
   ]
  },
  {
   "cell_type": "code",
   "execution_count": 68,
   "id": "ffe2ef59",
   "metadata": {},
   "outputs": [
    {
     "data": {
      "text/plain": [
       "24"
      ]
     },
     "execution_count": 68,
     "metadata": {},
     "output_type": "execute_result"
    }
   ],
   "source": [
    "len(labels)"
   ]
  },
  {
   "cell_type": "code",
   "execution_count": 107,
   "id": "d6d8d5cc",
   "metadata": {},
   "outputs": [
    {
     "data": {
      "image/png": "[encoded data removed]",
      "text/plain": [
       "<Figure size 432x288 with 1 Axes>"
      ]
     },
     "metadata": {
      "needs_background": "light"
     },
     "output_type": "display_data"
    },
    {
     "data": {
      "text/plain": [
       "<Figure size 2880x21600 with 0 Axes>"
      ]
     },
     "metadata": {},
     "output_type": "display_data"
    }
   ],
   "source": [
    "from matplotlib.pyplot import figure\n",
    "\n",
    "\n",
    "anubhav_hours = df.where(df.Sender == 'Anubhav').groupby('Hour').count()['Text']\n",
    "bublasaur_hours = df.where(df.Sender == 'Bublasaur').groupby('Hour').count()['Text']\n",
    "\n",
    "labels = [x for x in anubhav_hours.index]\n",
    "\n",
    "X_axis = np.arange(len(labels))\n",
    "\n",
    "plt.bar(X_axis-0.2, height = bublasaur_hours, width = 0.5, color = 'orange', align = 'center')\n",
    "plt.bar(X_axis+0.2, height = anubhav_hours , width = 0.5, color = 'green', align = 'center')\n",
    "plt.xticks(X_axis, labels, size = 8)\n",
    "plt.xlabel('Month')\n",
    "plt.ylabel('Text Frequency')\n",
    "figure( figsize=(40, 300))\n",
    "plt.show()"
   ]
  },
  {
   "cell_type": "code",
   "execution_count": null,
   "id": "59cc6d41",
   "metadata": {},
   "outputs": [],
   "source": []
  }
 ],
 "metadata": {
  "kernelspec": {
   "display_name": "Python 3 (ipykernel)",
   "language": "python",
   "name": "python3"
  },
  "language_info": {
   "codemirror_mode": {
    "name": "ipython",
    "version": 3
   },
   "file_extension": ".py",
   "mimetype": "text/x-python",
   "name": "python",
   "nbconvert_exporter": "python",
   "pygments_lexer": "ipython3",
   "version": "3.10.0"
  }
 },
 "nbformat": 4,
 "nbformat_minor": 5
}
