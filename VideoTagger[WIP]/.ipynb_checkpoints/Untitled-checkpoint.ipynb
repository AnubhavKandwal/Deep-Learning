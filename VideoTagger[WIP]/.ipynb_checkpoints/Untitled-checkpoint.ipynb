{
 "cells": [
  {
   "cell_type": "code",
   "execution_count": 2,
   "id": "46ece1dc",
   "metadata": {},
   "outputs": [],
   "source": [
    "#imports for image reading\n",
    "import numpy as np\n",
    "import matplotlib.pyplot as plt\n",
    "import matplotlib.image as img\n",
    "\n",
    "\n",
    "#imports for video and camera\n",
    "import cv2 as cv\n",
    "\n",
    "\n",
    "#extra imports\n",
    "import time\n",
    "import uuid\n",
    "import os"
   ]
  },
  {
   "cell_type": "markdown",
   "id": "4c23aae4",
   "metadata": {},
   "source": [
    "## Capturing Raw Data  "
   ]
  },
  {
   "cell_type": "code",
   "execution_count": 6,
   "id": "bc0015cf",
   "metadata": {},
   "outputs": [],
   "source": [
    "IMAGE_PATH = os.path.join(os.curdir, 'data')"
   ]
  },
  {
   "cell_type": "code",
   "execution_count": null,
   "id": "8de1610f",
   "metadata": {
    "collapsed": true
   },
   "outputs": [],
   "source": []
  }
 ],
 "metadata": {
  "kernelspec": {
   "display_name": "Python 3 (ipykernel)",
   "language": "python",
   "name": "python3"
  },
  "language_info": {
   "codemirror_mode": {
    "name": "ipython",
    "version": 3
   },
   "file_extension": ".py",
   "mimetype": "text/x-python",
   "name": "python",
   "nbconvert_exporter": "python",
   "pygments_lexer": "ipython3",
   "version": "3.11.2"
  }
 },
 "nbformat": 4,
 "nbformat_minor": 5
}
